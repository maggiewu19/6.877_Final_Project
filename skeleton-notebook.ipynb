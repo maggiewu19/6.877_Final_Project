{
 "cells": [
  {
   "cell_type": "markdown",
   "metadata": {},
   "source": [
    "# Task 05: Temporal Planning and Reasoning\n",
    "\n",
    "1. [Temporal Plan Description](#temporal_plan_description)\n",
    "    1. [Understand Temporal Plan Description](#text_description)\n",
    "    2. [Draw Your Temporal Plan](#graphical_description)\n",
    "       \n",
    "2. [Simple Temporal Network](#stn)\n",
    "    1. [Greedy Scheduling](#greedy)\n",
    "    2. [Constraint Inference](#inference)\n",
    "    3. [Constraint Inference from Shortest Path](#shortest_path)\n",
    "    4. [Weighted Graph Representation](#weighted_graph)\n",
    "    5. [Complete Floyd Warshall APSP](#apsp)\n",
    "\n",
    "3. [Scheduling without Search](#no_search)\n",
    "    1. [Solution by Decomposition](#decomposition)\n",
    "    2. [Consistency Check](#consistent)\n",
    "    3. [Flexible Execution](#flexible)"
   ]
  },
  {
   "cell_type": "markdown",
   "metadata": {},
   "source": [
    "## <a name=\"temporal_plan_description\"></a> Temporal Plan Description\n",
    "Temporal plans may be described qualitatively when time points are encoded by interval relations. Specifically, the following descriptions are commonly used to describe temporal plans "
   ]
  },
  {
   "cell_type": "markdown",
   "metadata": {},
   "source": [
    "### <a name=\"text_description\"></a> Understand Temporal Plan Description\n",
    "Use the same set of descriptors to describe the following temporal graph\n",
    "\n",
    "<div class=\"alert alert-info\">\n",
    "Write or upload your answer in the cell below this one.\n",
    "</div>"
   ]
  },
  {
   "cell_type": "code",
   "execution_count": null,
   "metadata": {},
   "outputs": [],
   "source": []
  },
  {
   "cell_type": "markdown",
   "metadata": {},
   "source": [
    "### <a name=\"graphical_description\"></a> Draw Your Temporal Plan\n",
    "Now draw the temporal graphs given the descriptors\n",
    "\n",
    "<div class=\"alert alert-info\">\n",
    "Write or upload your answer in the cell below this one.\n",
    "</div>"
   ]
  },
  {
   "cell_type": "code",
   "execution_count": null,
   "metadata": {},
   "outputs": [],
   "source": []
  },
  {
   "cell_type": "markdown",
   "metadata": {},
   "source": [
    "## <a name=\"stn\"></a> Simple Temporal Network\n",
    "Simple Temporal Network, abbreviated as STN, describes a set of time point nodes with edges mapping to temporal constraints. It encodes the binary constraints between any two time points. "
   ]
  },
  {
   "cell_type": "markdown",
   "metadata": {},
   "source": [
    "### <a name=\"greedy\"></a> Direct Greedy Scheduling\n",
    "Given the following STN, schedule in order of node number. What happened? Is Direct Greedy scheduling a good idea? Why or why not? \n",
    "\n",
    "<div class=\"alert alert-info\">\n",
    "Write or upload your answer in the cell below this one.\n",
    "</div>"
   ]
  },
  {
   "cell_type": "code",
   "execution_count": null,
   "metadata": {},
   "outputs": [],
   "source": []
  },
  {
   "cell_type": "markdown",
   "metadata": {},
   "source": [
    "### <a name=\"inference\"></a> Constraint Inference\n",
    "To better solve STN, it is important to impose implicit constraints of the network before solving using Greedy scheduling. The arithmetic rules for constraint inference is \n",
    "\n",
    "\n",
    "Using the rules above, assign the value of inferred constraint (lines in red) for the STN below. \n",
    "\n",
    "<div class=\"alert alert-info\">\n",
    "Write or upload your answer in the cell below this one.\n",
    "</div>"
   ]
  },
  {
   "cell_type": "code",
   "execution_count": null,
   "metadata": {},
   "outputs": [],
   "source": []
  },
  {
   "cell_type": "markdown",
   "metadata": {},
   "source": [
    "### <a name=\"shortest_path\"></a> Constraint Inference from Shortest Path\n",
    "So far, we have been treating STN as constraints. To draw efficient inference, an alternative way to look at constraint inference is to map STN to a weighted graph. \n",
    "\n",
    "The algorithm for the mapping is \n",
    "1. Upper bounds map to outgoing edges \n",
    "2. Lower bounds map to ingoing edges with weights negated \n",
    "\n",
    "An example of such conversion is as below \n",
    "\n",
    "To efficiently compute shortest path, we can first place the result as adjacency matrix with weighted edges on the entries. Fill out the adjacency matrix for the example above. \n",
    "\n",
    "<div class=\"alert alert-info\">\n",
    "Write or upload your answer in the cell below this one.\n",
    "</div>"
   ]
  },
  {
   "cell_type": "code",
   "execution_count": null,
   "metadata": {},
   "outputs": [],
   "source": []
  },
  {
   "cell_type": "markdown",
   "metadata": {},
   "source": [
    "### <a name=\"graph\"></a> Weighted Graph Representation \n",
    "In order to compute shortest paths in a graph, we need a simple graph representation. Fill in the graph class as defined below. "
   ]
  },
  {
   "cell_type": "code",
   "execution_count": null,
   "metadata": {},
   "outputs": [],
   "source": [
    "class WeightedGraph():\n",
    "    def __init__(adjacency_matrix=None):\n",
    "        self.vertices = set()\n",
    "        self.edges = set()\n",
    "    \n",
    "    def add_edge(start, end): \n",
    "        pass \n",
    "    \n",
    "    def add_vertex(vertex):\n",
    "        pass "
   ]
  },
  {
   "cell_type": "markdown",
   "metadata": {},
   "source": [
    "### <a name=\"apsp\"></a>  Floyd Warshall All Pairs Shortest Paths \n",
    "Use the WeightedGraph class to define the example above. Implement the Floyd Warshall All Pairs Shortest Paths (APSP) algorithm. Return a dictionary where key is the root and goal of the path and the value correspond to a tuple of the shortest path from root to goal and the path weight. \n"
   ]
  },
  {
   "cell_type": "code",
   "execution_count": null,
   "metadata": {},
   "outputs": [],
   "source": [
    "def floyd_warshall(weighted_graph): \n",
    "    pass "
   ]
  },
  {
   "cell_type": "code",
   "execution_count": null,
   "metadata": {},
   "outputs": [],
   "source": [
    "# AssertEqual "
   ]
  },
  {
   "cell_type": "markdown",
   "metadata": {},
   "source": [
    "## <a name=\"no_search\"></a> Scheduling without Search\n"
   ]
  },
  {
   "cell_type": "code",
   "execution_count": null,
   "metadata": {},
   "outputs": [],
   "source": []
  },
  {
   "cell_type": "markdown",
   "metadata": {},
   "source": [
    "### <a name=\"consistent\"></a> Consistency Check\n",
    "Is the following network consistent? Why or why not? \n",
    "\n",
    "<div class=\"alert alert-info\">\n",
    "Write or upload your answer in the cell below this one.\n",
    "</div>"
   ]
  },
  {
   "cell_type": "code",
   "execution_count": null,
   "metadata": {},
   "outputs": [],
   "source": []
  },
  {
   "cell_type": "markdown",
   "metadata": {},
   "source": [
    "### <a name=\"flexible\"></a> Flexible Execution\n",
    "How many events are no longer valid? What does the new execution plan look like? \n",
    "\n",
    "<div class=\"alert alert-info\">\n",
    "Write or upload your answer in the cell below this one.\n",
    "</div>"
   ]
  },
  {
   "cell_type": "code",
   "execution_count": null,
   "metadata": {},
   "outputs": [],
   "source": []
  }
 ],
 "metadata": {
  "kernelspec": {
   "display_name": "Python 3",
   "language": "python",
   "name": "python3"
  },
  "language_info": {
   "codemirror_mode": {
    "name": "ipython",
    "version": 3
   },
   "file_extension": ".py",
   "mimetype": "text/x-python",
   "name": "python",
   "nbconvert_exporter": "python",
   "pygments_lexer": "ipython3",
   "version": "3.7.4"
  }
 },
 "nbformat": 4,
 "nbformat_minor": 2
}
